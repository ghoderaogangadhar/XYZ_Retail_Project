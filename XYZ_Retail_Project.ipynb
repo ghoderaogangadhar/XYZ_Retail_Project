{
 "cells": [
  {
   "cell_type": "code",
   "execution_count": 1,
   "id": "979522bc-62ac-497a-823c-1a1f9a245da0",
   "metadata": {},
   "outputs": [
    {
     "name": "stdout",
     "output_type": "stream",
     "text": [
      "200\n",
      "40\n",
      "1.5\n"
     ]
    }
   ],
   "source": [
    "#Task_1(Sales Data Summary)\n",
    "## sales data summery\n",
    "category_a = 120\n",
    "category_b = 80\n",
    "\n",
    "total_units_sold=(category_a+category_b)\n",
    "print(total_units_sold)\n",
    "\n",
    "difference_between=(category_a-category_b)\n",
    "print(difference_between)\n",
    "\n",
    "#ratio of unit sold\n",
    "ratio=(category_a/category_b)\n",
    "print(ratio)"
   ]
  },
  {
   "cell_type": "code",
   "execution_count": null,
   "id": "eae8356d-8d49-4c25-845a-7adc09ed5e97",
   "metadata": {},
   "outputs": [],
   "source": [
    "#Task_2 customer age data\n",
    "\n",
    "customer_name=input(\"input the customer's name\")\n",
    "customer_age=int(input(\"input the customer's age\"))\n",
    "\n",
    "##personalized marketing message\n",
    "marketing_message=(f\"Dear {customer_name}, at {customer_age}, you’re eligible for our premium loyalty program.\")\n",
    "\n",
    "print(marketing_message) "
   ]
  },
  {
   "cell_type": "code",
   "execution_count": 1,
   "id": "6e33f9e5-02bd-433e-bcb1-49d163a4d95c",
   "metadata": {},
   "outputs": [
    {
     "name": "stdout",
     "output_type": "stream",
     "text": [
      "Updated Product List (including the premium product):\n",
      "[120, 250, 90, 180, 350, 220, 300, 500]\n",
      "\n",
      "Highest Price: 350\n",
      "Lowest Price: 90\n",
      "Mid-range Products: [120, 250, 180, 220, 300]\n"
     ]
    }
   ],
   "source": [
    "# Task 3: Product List Management\n",
    "\n",
    "# Given list of product prices\n",
    "product_prices = [120, 250, 90, 180, 350, 220, 300]  # Example product prices\n",
    "\n",
    "# Step 1: Extract the highest and lowest prices\n",
    "highest_price = max(product_prices)\n",
    "lowest_price = min(product_prices)\n",
    "\n",
    "# Step 2: Create a new list with mid-range products (excluding the highest and lowest prices)\n",
    "mid_range_products = [price for price in product_prices if price != highest_price and price != lowest_price]\n",
    "\n",
    "# Step 3: Add a new premium product price\n",
    "premium_price = 500  # Example premium product pricea\n",
    "product_prices.append(premium_price)\n",
    "\n",
    "# Step 4: Print the updated product list\n",
    "print(\"Updated Product List (including the premium product):\")\n",
    "print(product_prices)\n",
    "\n",
    "# Step 5: Display the extracted prices and mid-range list\n",
    "print(\"\\nHighest Price:\", highest_price)\n",
    "print(\"Lowest Price:\", lowest_price)\n",
    "print(\"Mid-range Products:\", mid_range_products)\n"
   ]
  },
  {
   "cell_type": "code",
   "execution_count": 5,
   "id": "d574b091-3280-400a-9fa1-3acaf3e35213",
   "metadata": {},
   "outputs": [
    {
     "name": "stdout",
     "output_type": "stream",
     "text": [
      "Product Name: Wireless Headphones\n",
      "SKU: WH12345\n"
     ]
    }
   ],
   "source": [
    "# Task 4: Inventory Lookup\n",
    "\n",
    "# Step 1: Create a dictionary storing key information about a product\n",
    "product_info = {\n",
    "    \"product_name\": \"Wireless Headphones\",\n",
    "    \"SKU\": \"WH12345\",\n",
    "    \"price\": 120.99,\n",
    "    \"category\": \"Electronics\"\n",
    "}\n",
    "\n",
    "# Step 2: Query and print the product name and SKU for customer service\n",
    "print(\"Product Name:\", product_info[\"product_name\"])\n",
    "print(\"SKU:\", product_info[\"SKU\"])\n",
    "\n",
    "\n"
   ]
  },
  {
   "cell_type": "code",
   "execution_count": 8,
   "id": "e87098c7-3653-450c-99cc-6159e51ca1ee",
   "metadata": {},
   "outputs": [
    {
     "name": "stdin",
     "output_type": "stream",
     "text": [
      "Enter the current stock level:  30\n"
     ]
    },
    {
     "name": "stdout",
     "output_type": "stream",
     "text": [
      "Reorder Now\n"
     ]
    }
   ],
   "source": [
    "# Task 5: Stock Level Alert System\n",
    "\n",
    "# Step 1: Take the stock level as input\n",
    "stock_level = int(input(\"Enter the current stock level: \"))\n",
    "\n",
    "# Step 2: Define a stock threshold (example threshold)\n",
    "threshold = 50\n",
    "\n",
    "# Step 3: Check if stock is below the threshold or sufficient\n",
    "if stock_level < threshold:\n",
    "    print(\"Reorder Now\")\n",
    "else:\n",
    "    print(\"Stock is sufficient\")\n"
   ]
  },
  {
   "cell_type": "code",
   "execution_count": 10,
   "id": "8edd0f2f-be85-4dfd-8a66-09aca897738c",
   "metadata": {},
   "outputs": [
    {
     "name": "stdout",
     "output_type": "stream",
     "text": [
      "Using a for loop:\n",
      "LAPTOP\n",
      "HEADPHONES\n",
      "MOUSE\n",
      "KEYBOARD\n",
      "MONITOR\n",
      "\n",
      "Using a while loop:\n",
      "LAPTOP\n",
      "HEADPHONES\n",
      "MOUSE\n",
      "KEYBOARD\n",
      "MONITOR\n"
     ]
    }
   ],
   "source": [
    "# Task 6: Sales Report Formatting\n",
    "\n",
    "# List of products sold\n",
    "products_sold = [\"laptop\", \"headphones\", \"mouse\", \"keyboard\", \"monitor\"]\n",
    "\n",
    "# Using a for loop to print each product name in uppercase\n",
    "print(\"Using a for loop:\")\n",
    "for product in products_sold:\n",
    "    print(product.upper())  # Convert each product name to uppercase and print\n",
    "\n",
    "# Using a while loop to print each product name in uppercase\n",
    "print(\"\\nUsing a while loop:\")\n",
    "index = 0\n",
    "while index < len(products_sold):\n",
    "    print(products_sold[index].upper())  # Convert the product name to uppercase and print\n",
    "    index += 1\n",
    "\n"
   ]
  },
  {
   "cell_type": "code",
   "execution_count": 12,
   "id": "1a9c7f04-b81b-4b36-b6f7-df173936db52",
   "metadata": {},
   "outputs": [
    {
     "name": "stdout",
     "output_type": "stream",
     "text": [
      "Area of Section A: 96 square meters\n",
      "Area of Section B: 150 square meters\n",
      "Area of Section C: 63 square meters\n"
     ]
    }
   ],
   "source": [
    "# Task 7: Area Calculation for Store Layout\n",
    "\n",
    "# Step 1: Define a function to calculate the area of a store section\n",
    "def calculate_area(length, width):\n",
    "    return length * width\n",
    "\n",
    "# Step 2: Calculate and print the area of several store sections\n",
    "# Store sections with their respective lengths and widths (in meters)\n",
    "store_sections = [\n",
    "    {\"name\": \"Section A\", \"length\": 12, \"width\": 8},\n",
    "    {\"name\": \"Section B\", \"length\": 15, \"width\": 10},\n",
    "    {\"name\": \"Section C\", \"length\": 9, \"width\": 7},\n",
    "]\n",
    "\n",
    "# Loop through each section, calculate the area and print the result\n",
    "for section in store_sections:\n",
    "    area = calculate_area(section[\"length\"], section[\"width\"])\n",
    "    print(f\"Area of {section['name']}: {area} square meters\")\n",
    "\n"
   ]
  },
  {
   "cell_type": "code",
   "execution_count": 13,
   "id": "5950a942-4baa-4eb6-8a3a-4d4e290c5535",
   "metadata": {},
   "outputs": [
    {
     "name": "stdin",
     "output_type": "stream",
     "text": [
      "Enter customer feedback:  2\n"
     ]
    },
    {
     "name": "stdout",
     "output_type": "stream",
     "text": [
      "Number of vowels in the feedback: 0\n",
      "Reversed feedback: 2\n"
     ]
    }
   ],
   "source": [
    "# Task 8: Customer Feedback Analysis\n",
    "\n",
    "# Step 1: Take customer feedback as input\n",
    "feedback = input(\"Enter customer feedback: \")\n",
    "\n",
    "# Step 2: Count the number of vowels in the feedback\n",
    "vowels = \"aeiouAEIOU\"  # Vowels to check (both uppercase and lowercase)\n",
    "vowel_count = 0\n",
    "\n",
    "# Loop through each character in the feedback and count vowels\n",
    "for char in feedback:\n",
    "    if char in vowels:\n",
    "        vowel_count += 1\n",
    "\n",
    "# Step 3: Reverse the feedback message\n",
    "reversed_feedback = feedback[::-1]\n",
    "\n",
    "# Step 4: Print the results\n",
    "print(f\"Number of vowels in the feedback: {vowel_count}\")\n",
    "print(f\"Reversed feedback: {rever1sed_feedback}\")\n"
   ]
  },
  {
   "cell_type": "code",
   "execution_count": 14,
   "id": "8a366f85-17dc-4934-8536-1e7ed7da3a63",
   "metadata": {},
   "outputs": [
    {
     "name": "stdout",
     "output_type": "stream",
     "text": [
      "Eligible products for the discount campaign:\n",
      "Laptop - $800\n",
      "Smartphone - $400\n",
      "Monitor - $300\n"
     ]
    }
   ],
   "source": [
    "# Task 9: Price Filtering Tool\n",
    "\n",
    "# List of products and their prices (name, price)\n",
    "products = [\n",
    "    {\"name\": \"Laptop\", \"price\": 800},\n",
    "    {\"name\": \"Smartphone\", \"price\": 400},\n",
    "    {\"name\": \"Headphones\", \"price\": 150},\n",
    "    {\"name\": \"Keyboard\", \"price\": 50},\n",
    "    {\"name\": \"Monitor\", \"price\": 300},\n",
    "]\n",
    "\n",
    "# Define the price threshold\n",
    "threshold_price = 200\n",
    "\n",
    "# Step 1: Use list comprehension to filter products priced above the threshold\n",
    "eligible_products = [product for product in products if product[\"price\"] >= threshold_price]\n",
    "\n",
    "# Step 2: Print the list of eligible products\n",
    "print(\"Eligible products for the discount campaign:\")\n",
    "for product in eligible_products:\n",
    "    print(f\"{product['name']} - ${product['price']}\")\n"
   ]
  },
  {
   "cell_type": "code",
   "execution_count": 15,
   "id": "c3a7c85e-8cd8-4e58-8a75-1335f482985a",
   "metadata": {},
   "outputs": [
    {
     "name": "stdout",
     "output_type": "stream",
     "text": [
      "Content of the sales log file:\n",
      "Sales Summary for December 5, 2024:\n",
      "Total sales: $5,000 | 200 products sold.\n",
      "\n",
      "Content of the sales log file:\n",
      "Sales Summary for December 5, 2024:\n",
      "Total sales: $5,000 | 200 products sold.\n",
      "\n"
     ]
    }
   ],
   "source": [
    "# Task 10: Sales Log File Management\n",
    "\n",
    "# Step 1: Create and write to the sales_log.txt file\n",
    "with open(\"sales_log.txt\", \"w\") as file:\n",
    "    file.write(\"Sales Summary for December 5, 2024:\\n\")\n",
    "    file.write(\"Total sales: $5,000 | 200 products sold.\\n\")\n",
    "\n",
    "# Step 2: Read and print the content of the sales_log.txt file\n",
    "with open(\"sales_log.txt\", \"r\") as file:\n",
    "    content = file.read()\n",
    "\n",
    "print(\"Content of the sales log file:\")\n",
    "print(content)\n",
    "\n",
    "# Task 10: Sales Log File Management\n",
    "\n",
    "# Step 1: Create and write to the sales_log.txt file\n",
    "with open(\"sales_log.txt\", \"w\") as file:\n",
    "    file.write(\"Sales Summary for December 5, 2024:\\n\")\n",
    "    file.write(\"Total sales: $5,000 | 200 products sold.\\n\")\n",
    "\n",
    "# Step 2: Read and print the content of the sales_log.txt file\n",
    "with open(\"sales_log.txt\", \"r\") as file:\n",
    "    content = file.read()\n",
    "\n",
    "print(\"Content of the sales log file:\")\n",
    "print(content)\n"
   ]
  },
  {
   "cell_type": "code",
   "execution_count": 16,
   "id": "342bf9c5-6783-4c44-b767-d44158deed92",
   "metadata": {},
   "outputs": [
    {
     "name": "stdout",
     "output_type": "stream",
     "text": [
      "Average daily sales for the past week: $1335.71\n"
     ]
    }
   ],
   "source": [
    "# Task 11: Daily Sales Average\n",
    "\n",
    "# List of daily sales figures for the last 7 days\n",
    "sales_last_week = [1200, 1500, 1400, 1300, 1600, 1250, 1100]\n",
    "\n",
    "# Step 1: Calculate the average sales for the past week\n",
    "average_sales = sum(sales_last_week) / len(sales_last_week)\n",
    "\n",
    "# Step 2: Print the average sales\n",
    "print(f\"Average daily sales for the past week: ${average_sales:.2f}\")\n"
   ]
  },
  {
   "cell_type": "code",
   "execution_count": 17,
   "id": "2efc7edb-fdb8-46e2-b42f-a8edc1ec7049",
   "metadata": {},
   "outputs": [
    {
     "name": "stdout",
     "output_type": "stream",
     "text": [
      "Customer Segmentation Results:\n",
      "Spending: $150 - Category: Low\n",
      "Spending: $550 - Category: Medium\n",
      "Spending: $1200 - Category: Medium\n",
      "Spending: $250 - Category: Low\n",
      "Spending: $3000 - Category: High\n",
      "Spending: $700 - Category: Medium\n",
      "Spending: $50 - Category: Low\n",
      "Spending: $1800 - Category: High\n"
     ]
    }
   ],
   "source": [
    "# Task 12: Customer Segmentation\n",
    "\n",
    "# List of customer spending amounts\n",
    "customer_spendings = [150, 550, 1200, 250, 3000, 700, 50, 1800]\n",
    "\n",
    "# Step 1: Categorize customers based on their spending\n",
    "customer_categories = []\n",
    "\n",
    "for spending in customer_spendings:\n",
    "    if spending < 500:\n",
    "        category = \"Low\"\n",
    "    elif 500 <= spending < 1500:\n",
    "        category = \"Medium\"\n",
    "    else:\n",
    "        category = \"High\"\n",
    "    \n",
    "    # Add the category to the list along with the spending\n",
    "    customer_categories.append((spending, category))\n",
    "\n",
    "# Step 2: Print the categorized results\n",
    "print(\"Customer Segmentation Results:\")\n",
    "for spending, category in customer_categories:\n",
    "    print(f\"Spending: ${spending} - Category: {category}\")\n",
    "\n"
   ]
  },
  {
   "cell_type": "code",
   "execution_count": 18,
   "id": "676e98cb-6a52-46f1-948b-76e016769c2e",
   "metadata": {},
   "outputs": [
    {
     "name": "stdout",
     "output_type": "stream",
     "text": [
      "Discounted Prices for Products:\n",
      "Product A: Original Price = $100, Discount = 10%, Final Price = $90.00\n",
      "Product B: Original Price = $200, Discount = 20%, Final Price = $160.00\n",
      "Product C: Original Price = $150, Discount = 15%, Final Price = $127.50\n",
      "Product D: Original Price = $300, Discount = 25%, Final Price = $225.00\n"
     ]
    }
   ],
   "source": [
    "# Task 13: Discount Calculation\n",
    "\n",
    "# Function to calculate the final price after applying a discount\n",
    "def calculate_discount_price(original_price, discount_percentage):\n",
    "    discount_amount = (discount_percentage / 100) * original_price\n",
    "    final_price = original_price - discount_amount\n",
    "    return final_price\n",
    "\n",
    "# List of products with their original prices and discount percentages\n",
    "products = [\n",
    "    {\"name\": \"Product A\", \"original_price\": 100, \"discount_percentage\": 10},\n",
    "    {\"name\": \"Product B\", \"original_price\": 200, \"discount_percentage\": 20},\n",
    "    {\"name\": \"Product C\", \"original_price\": 150, \"discount_percentage\": 15},\n",
    "    {\"name\": \"Product D\", \"original_price\": 300, \"discount_percentage\": 25},\n",
    "]\n",
    "\n",
    "# Step 1: Calculate and print the final price for each product\n",
    "print(\"Discounted Prices for Products:\")\n",
    "for product in products:\n",
    "    final_price = calculate_discount_price(product[\"original_price\"], product[\"discount_percentage\"])\n",
    "    print(f\"{product['name']}: Original Price = ${product['original_price']}, Discount = {product['discount_percentage']}%, Final Price = ${final_price:.2f}\")\n"
   ]
  },
  {
   "cell_type": "code",
   "execution_count": 20,
   "id": "8c235eb6-1203-4075-9748-298b9a59455d",
   "metadata": {},
   "outputs": [
    {
     "name": "stdin",
     "output_type": "stream",
     "text": [
      "Enter customer feedback:  20\n"
     ]
    },
    {
     "name": "stdout",
     "output_type": "stream",
     "text": [
      "The sentiment of the feedback is: Neutral\n"
     ]
    }
   ],
   "source": [
    "## Task 14: Customer Feedback Sentiment Analysis\n",
    "\n",
    "# Define positive and negative words\n",
    "positive_words = [\"good\", \"happy\", \"excellent\", \"satisfied\", \"great\"]\n",
    "negative_words = [\"bad\", \"disappointed\", \"poor\", \"terrible\", \"unsatisfied\"]\n",
    "\n",
    "# Function to perform sentiment analysis\n",
    "def analyze_feedback(feedback):\n",
    "    # Convert feedback to lowercase for case-insensitive comparison\n",
    "    feedback = feedback.lower()\n",
    "    \n",
    "    # Check for positive and negative words\n",
    "    positive_found = any(word in feedback for word in positive_words)\n",
    "    negative_found = any(word in feedback for word in negative_words)\n",
    "    \n",
    "    # Determine sentiment based on the words found\n",
    "    if positive_found and not negative_found:\n",
    "        return \"Positive\"\n",
    "    elif negative_found and not positive_found:\n",
    "        return \"Negative\"\n",
    "    else:\n",
    "        return \"Neutral\"  # In case both positive and negative words are found, or neither.\n",
    "\n",
    "# Test the function with sample feedback\n",
    "feedback = input(\"Enter customer feedback: \")\n",
    "sentiment = analyze_feedback(feedback)\n",
    "print(f\"The sentiment of the feedback is: {sentiment}\")\n"
   ]
  },
  {
   "cell_type": "code",
   "execution_count": 21,
   "id": "5bb410c4-7ac0-47a4-b39b-a5daf50bd7d7",
   "metadata": {},
   "outputs": [
    {
     "name": "stdout",
     "output_type": "stream",
     "text": [
      "Employee: Alice, Rating: Excellent, Old Salary: $50000, Updated Salary: $55000.00\n",
      "Employee: Bob, Rating: Good, Old Salary: $45000, Updated Salary: $47250.00\n",
      "Employee: Charlie, Rating: Average, Old Salary: $40000, Updated Salary: $41200.00\n",
      "Employee: David, Rating: Excellent, Old Salary: $60000, Updated Salary: $66000.00\n",
      "Employee: Eva, Rating: Poor, Old Salary: $35000, Updated Salary: $35000.00\n"
     ]
    }
   ],
   "source": [
    "# Task 15: Employee Salary Increment Calculator\n",
    "\n",
    "# Create a dictionary with employee names and their performance ratings\n",
    "employees = {\n",
    "    \"Alice\": {\"rating\": \"Excellent\", \"salary\": 50000},\n",
    "    \"Bob\": {\"rating\": \"Good\", \"salary\": 45000},\n",
    "    \"Charlie\": {\"rating\": \"Average\", \"salary\": 40000},\n",
    "    \"David\": {\"rating\": \"Excellent\", \"salary\": 60000},\n",
    "    \"Eva\": {\"rating\": \"Poor\", \"salary\": 35000},\n",
    "}\n",
    "\n",
    "# Function to calculate the new salary based on the performance rating\n",
    "def calculate_increment(salary, rating):\n",
    "    if rating == \"Excellent\":\n",
    "        increment = 0.10  # 10% increment for Excellent rating\n",
    "    elif rating == \"Good\":\n",
    "        increment = 0.05  # 5% increment for Good rating\n",
    "    elif rating == \"Average\":\n",
    "        increment = 0.03  # 3% increment for Average rating\n",
    "    else:\n",
    "        increment = 0.00  # No increment for Poor rating\n",
    "    \n",
    "    new_salary = salary + (salary * increment)\n",
    "    return new_salary\n",
    "\n",
    "# Apply the increment to each employee and print the updated salary\n",
    "for name, details in employees.items():\n",
    "    updated_salary = calculate_increment(details[\"salary\"], details[\"rating\"])\n",
    "    print(f\"Employee: {name}, Rating: {details['rating']}, Old Salary: ${details['salary']}, Updated Salary: ${updated_salary:.2f}\")\n"
   ]
  },
  {
   "cell_type": "code",
   "execution_count": 22,
   "id": "85ca0f8d-305e-4564-ae32-de6b9ecaa829",
   "metadata": {},
   "outputs": [
    {
     "name": "stdout",
     "output_type": "stream",
     "text": [
      "Monthly Sales Report\n",
      "---------------------\n",
      "Total Sales: $46800.00\n",
      "Average Sales: $1462.50\n",
      "\n"
     ]
    }
   ],
   "source": [
    "# Task 16: Monthly Sales Report Generator\n",
    "\n",
    "# Create a list of daily sales figures for the month (30 days assumed for simplicity)\n",
    "daily_sales = [1200, 1300, 1250, 1400, 1350, 1450, 1500, 1550, 1600, 1700,\n",
    "               1650, 1600, 1550, 1500, 1450, 1400, 1300, 1250, 1200, 1300,\n",
    "               1350, 1400, 1450, 1500, 1550, 1600, 1700, 1650, 1600, 1550,\n",
    "               1500, 1450]\n",
    "\n",
    "# Calculate the total sales for the month\n",
    "total_sales = sum(daily_sales)\n",
    "\n",
    "# Calculate the average sales for the month\n",
    "average_sales = total_sales / len(daily_sales)\n",
    "\n",
    "# Prepare the sales report content\n",
    "report_content = f\"Monthly Sales Report\\n\"\n",
    "report_content += f\"---------------------\\n\"\n",
    "report_content += f\"Total Sales: ${total_sales:.2f}\\n\"\n",
    "report_content += f\"Average Sales: ${average_sales:.2f}\\n\"\n",
    "\n",
    "# Write the report content to a text file\n",
    "with open(\"monthly_report.txt\", \"w\") as file:\n",
    "    file.write(report_content)\n",
    "\n",
    "# Print the report to the console\n",
    "print(report_content)\n",
    "\n"
   ]
  },
  {
   "cell_type": "code",
   "execution_count": 23,
   "id": "2a457ee1-72f1-4875-89ac-d4aaf08fa43e",
   "metadata": {},
   "outputs": [
    {
     "name": "stdout",
     "output_type": "stream",
     "text": [
      "Products that need replenishment:\n",
      "- Product D\n",
      "- Product F\n"
     ]
    }
   ],
   "source": [
    "# Task 17: Stock Replenishment Planning\n",
    "\n",
    "# List of products with their current stock levels\n",
    "products_stock = {\n",
    "    \"Product A\": 50,\n",
    "    \"Product B\": 120,\n",
    "    \"Product C\": 30,\n",
    "    \"Product D\": 5,\n",
    "    \"Product E\": 80,\n",
    "    \"Product F\": 10,\n",
    "}\n",
    "\n",
    "# Define the threshold for stock levels (e.g., minimum stock level)\n",
    "threshold = 20\n",
    "\n",
    "# Create a list of products that need to be reordered\n",
    "reorder_list = []\n",
    "\n",
    "# Check each product's stock level\n",
    "for product, stock in products_stock.items():\n",
    "    if stock < threshold:\n",
    "        reorder_list.append(product)\n",
    "\n",
    "# Print the list of products that need to be reordered\n",
    "if reorder_list:\n",
    "    print(\"Products that need replenishment:\")\n",
    "    for product in reorder_list:\n",
    "        print(f\"- {product}\")\n",
    "else:\n",
    "    print(\"All products have sufficient stock.\")\n",
    "\n"
   ]
  },
  {
   "cell_type": "code",
   "execution_count": 24,
   "id": "5dbdbdb5-adc1-4010-91cd-d61b407b23c8",
   "metadata": {},
   "outputs": [
    {
     "name": "stdout",
     "output_type": "stream",
     "text": [
      "Products that need replenishment:\n",
      "- Product D\n",
      "- Product F\n"
     ]
    }
   ],
   "source": [
    "# Task 17: Stock Replenishment Planning\n",
    "\n",
    "# List of products with their current stock levels\n",
    "products_stock = {\n",
    "    \"Product A\": 50,\n",
    "    \"Product B\": 120,\n",
    "    \"Product C\": 30,\n",
    "    \"Product D\": 5,\n",
    "    \"Product E\": 80,\n",
    "    \"Product F\": 10,\n",
    "}\n",
    "\n",
    "# Define the threshold for stock levels (e.g., minimum stock level)\n",
    "threshold = 20\n",
    "\n",
    "# Create a list of products that need to be reordered\n",
    "reorder_list = []\n",
    "\n",
    "# Check each product's stock level\n",
    "for product, stock in products_stock.items():\n",
    "    if stock < threshold:\n",
    "        reorder_list.append(product)\n",
    "\n",
    "# Print the list of products that need to be reordered\n",
    "if reorder_list:\n",
    "    print(\"Products that need replenishment:\")\n",
    "    for product in reorder_list:\n",
    "        print(f\"- {product}\")\n",
    "else:\n",
    "    print(\"All products have sufficient stock.\")\n",
    "\n"
   ]
  },
  {
   "cell_type": "code",
   "execution_count": 26,
   "id": "45ef0aea-8c02-4f45-bb7b-567760653ff3",
   "metadata": {},
   "outputs": [
    {
     "name": "stdout",
     "output_type": "stream",
     "text": [
      "Cleaned Customer Names for Database Entry:\n",
      "- John Doe\n",
      "- Mary Joe\n",
      "- Alice Smith\n",
      "- Bob Brown\n",
      "- Charlie Davis\n"
     ]
    }
   ],
   "source": [
    "# Task 18: Data Cleaning Utility\n",
    "\n",
    "# List of customer names with extra spaces and inconsistent capitalization\n",
    "customer_names = [\n",
    "    \"  john doe  \",\n",
    "    \"mAry jOe  \",\n",
    "    \"ALICE  SMITH  \",\n",
    "    \"bob brown\",\n",
    "    \"  charlie dAVIS\"\n",
    "]\n",
    "\n",
    "# Function to clean the names by trimming spaces and standardizing capitalization\n",
    "def clean_names(names):\n",
    "    cleaned_names = []\n",
    "    for name in names:\n",
    "        # Remove leading/trailing spaces and capitalize each word properly\n",
    "        cleaned_name = ' '.join(word.capitalize() for word in name.strip().split())\n",
    "        cleaned_names.append(cleaned_name)\n",
    "    return cleaned_names\n",
    "\n",
    "# Clean the customer names\n",
    "cleaned_names = clean_names(customer_names)\n",
    "\n",
    "# Print the cleaned names\n",
    "print(\"Cleaned Customer Names for Database Entry:\")\n",
    "for name in cleaned_names:\n",
    "    print(f\"- {name}\")\n",
    "\n"
   ]
  },
  {
   "cell_type": "code",
   "execution_count": 27,
   "id": "ea708d5e-cfc5-47f1-9588-7b53c3c7f42b",
   "metadata": {},
   "outputs": [
    {
     "name": "stdout",
     "output_type": "stream",
     "text": [
      "Forecasted Sales for Next Month: $15000.00\n"
     ]
    }
   ],
   "source": [
    "# Task 19: Simple Sales Forecasting\n",
    "\n",
    "# List of sales figures for the last 3 months\n",
    "sales_last_three_months = [12000, 15000, 18000]  # Example sales figures\n",
    "\n",
    "# Calculate the average sales over the last 3 months\n",
    "average_sales = sum(sales_last_three_months) / len(sales_last_three_months)\n",
    "\n",
    "# Predict next month's sales based on the average sales\n",
    "forecasted_sales = average_sales\n",
    "\n",
    "# Print the forecasted sales\n",
    "print(f\"Forecasted Sales for Next Month: ${forecasted_sales:.2f}\")\n"
   ]
  },
  {
   "cell_type": "code",
   "execution_count": 29,
   "id": "663ea0bf-3cda-41e6-a456-f8abd987557e",
   "metadata": {},
   "outputs": [
    {
     "name": "stdout",
     "output_type": "stream",
     "text": [
      "Customer Loyalty Points:\n",
      "John Doe earned 180.00 loyalty points.\n",
      "Mary Smith earned 675.00 loyalty points.\n",
      "Alice Brown earned 1200.00 loyalty points.\n",
      "Bob White earned 80.00 loyalty points.\n",
      "Charlie Davis earned 450.00 loyalty points.\n"
     ]
    }
   ],
   "source": [
    "# Task 20: Customer Loyalty Points Calculator\n",
    "\n",
    "# List of customers with their total purchase amounts\n",
    "customers = [\n",
    "    {\"name\": \"John Doe\", \"total_spent\": 120},\n",
    "    {\"name\": \"Mary Smith\", \"total_spent\": 450},\n",
    "    {\"name\": \"Alice Brown\", \"total_spent\": 600},\n",
    "    {\"name\": \"Bob White\", \"total_spent\": 80},\n",
    "    {\"name\": \"Charlie Davis\", \"total_spent\": 300}\n",
    "]\n",
    "\n",
    "# Function to calculate loyalty points based on spending\n",
    "def calculate_loyalty_points(spending):\n",
    "    if spending < 100:\n",
    "        return spending * 1  # 1 point per dollar\n",
    "    elif 100 <= spending < 500:\n",
    "        return spending * 1.5  # 1.5 points per dollar\n",
    "    else:\n",
    "        return spending * 2  # 2 points per dollar\n",
    "\n",
    "# Calculate and print loyalty points for each customer\n",
    "print(\"Customer Loyalty Points:\")\n",
    "for customer in customers:\n",
    "    name = customer[\"name\"]\n",
    "    spending = customer[\"total_spent\"]\n",
    "    points = calculate_loyalty_points(spending)\n",
    "    print(f\"{name} earned {points:.2f} loyalty points.\")\n",
    "\n",
    "\n"
   ]
  },
  {
   "cell_type": "code",
   "execution_count": null,
   "id": "a6a017f8-2316-4136-8d1c-8398eede6b1c",
   "metadata": {},
   "outputs": [],
   "source": []
  },
  {
   "cell_type": "code",
   "execution_count": null,
   "id": "a50ac2fa-bb6a-4e83-97bc-19673fb49e3f",
   "metadata": {},
   "outputs": [],
   "source": []
  },
  {
   "cell_type": "code",
   "execution_count": null,
   "id": "de6d64c3-88c4-492b-8481-4474e7380b50",
   "metadata": {},
   "outputs": [],
   "source": []
  },
  {
   "cell_type": "code",
   "execution_count": null,
   "id": "96a8c4be-6797-4f8f-9091-20a06136cf3e",
   "metadata": {},
   "outputs": [],
   "source": []
  },
  {
   "cell_type": "code",
   "execution_count": null,
   "id": "9a063357-987e-4f2a-8c4f-24ef03abf1a7",
   "metadata": {},
   "outputs": [],
   "source": []
  },
  {
   "cell_type": "code",
   "execution_count": null,
   "id": "1221687b-4f59-4a3e-9821-2219f42c492e",
   "metadata": {},
   "outputs": [],
   "source": []
  },
  {
   "cell_type": "code",
   "execution_count": null,
   "id": "5eb03872-6e3e-4d99-b10e-278f811ea679",
   "metadata": {},
   "outputs": [],
   "source": []
  }
 ],
 "metadata": {
  "kernelspec": {
   "display_name": "Python 3 (ipykernel)",
   "language": "python",
   "name": "python3"
  },
  "language_info": {
   "codemirror_mode": {
    "name": "ipython",
    "version": 3
   },
   "file_extension": ".py",
   "mimetype": "text/x-python",
   "name": "python",
   "nbconvert_exporter": "python",
   "pygments_lexer": "ipython3",
   "version": "3.12.7"
  }
 },
 "nbformat": 4,
 "nbformat_minor": 5
}
